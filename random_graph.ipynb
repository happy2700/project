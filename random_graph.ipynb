{
 "cells": [
  {
   "cell_type": "code",
<<<<<<< HEAD
   "execution_count": 18,
=======
   "execution_count": 1,
>>>>>>> 6a7e0afe5c1c42459e9c27ae31429070b17da434
   "id": "13005cc2-735d-43cc-9f38-544675eb3b95",
   "metadata": {},
   "outputs": [
    {
     "name": "stdout",
     "output_type": "stream",
     "text": [
<<<<<<< HEAD
      "The random graph has been generated and saved to a file'random_graph.pkl'\n",
      "Number of nodes: 8, Edge probability: 0.6\n",
      "Number of edges: 19\n",
      "Node weights: {0: 11, 1: 1, 2: 5, 3: 19, 4: 17, 5: 17, 6: 1, 7: 17}\n",
      "Edge set: [(0, 2), (0, 3), (0, 4), (0, 5), (0, 6), (0, 7), (1, 3), (1, 4), (1, 6), (1, 7), (2, 3), (2, 7), (3, 4), (3, 6), (4, 6), (4, 7), (5, 6), (5, 7), (6, 7)]\n"
=======
      "随机图已生成并保存到文件 'random_graph.pkl'\n",
      "节点数: 8, 边概率: 0.4\n",
      "边数: 7\n",
      "节点权重: {0: 12, 1: 13, 2: 14, 3: 5, 4: 18, 5: 20, 6: 1, 7: 19}\n",
      "边集: [(0, 7), (1, 3), (1, 4), (2, 4), (3, 5), (5, 6), (5, 7)]\n"
>>>>>>> 6a7e0afe5c1c42459e9c27ae31429070b17da434
     ]
    }
   ],
   "source": [
    "import networkx as nx\n",
    "import random\n",
    "import pickle\n",
    "\n",
    "def generate_connected_erdos_renyi_graph(n, p):\n",
    "    \"\"\"\n",
<<<<<<< HEAD
    "    Generates a connected Erdős-Rényi graph.\n",
    "    \"\"\"\n",
    "    while True:\n",
    "        G = nx.erdos_renyi_graph(n, p)  # Generating a Random Graph\n",
    "        if nx.is_connected(G):  # Checking if the Graph is Connected\n",
=======
    "    生成一个连通的 Erdős-Rényi 图\n",
    "    \"\"\"\n",
    "    while True:\n",
    "        G = nx.erdos_renyi_graph(n, p)  # 生成随机图\n",
    "        if nx.is_connected(G):  # 检查图是否连通\n",
>>>>>>> 6a7e0afe5c1c42459e9c27ae31429070b17da434
    "            return G\n",
    "\n",
    "def assign_random_weights(G, weight_range=(1, 20)):\n",
    "    \"\"\"\n",
<<<<<<< HEAD
    "    Assigns random weights to each vertex of the graph.\n",
=======
    "    为图的每个顶点赋予随机权值\n",
>>>>>>> 6a7e0afe5c1c42459e9c27ae31429070b17da434
    "    \"\"\"\n",
    "    for node in G.nodes():\n",
    "        G.nodes[node]['weight'] = random.randint(*weight_range)\n",
    "    return G\n",
    "\n",
    "def generate_single_graph():\n",
    "    \"\"\"\n",
<<<<<<< HEAD
    "    Randomly selects a number of vertices and a probability from the given values, generates a connected graph, and assigns random weights.\n",
    "    \"\"\"\n",
    "    n_values = [7,8]  # Range of Number of Nodes\n",
    "    p_values = [0.3, 0.4, 0.5, 0.6, 0.7]  # Range of Edge Probability\n",
    "    \n",
    "   # Randomly Selecting a Number of Vertices and a Probability\n",
    "    n = random.choice(n_values)\n",
    "    p = random.choice(p_values)\n",
    "    \n",
    "    # Generating a Connected Graph\n",
=======
    "    从给定的数值中随机选择一个顶点数和概率，生成一个连通图，并赋予随机权值\n",
    "    \"\"\"\n",
    "    # 固定参数\n",
    "    n_values = [7,8]  # 节点数范围\n",
    "    p_values = [0.3, 0.4, 0.5, 0.6, 0.7]  # 边概率范围\n",
    "    \n",
    "    # 随机选择一个顶点数和概率\n",
    "    n = random.choice(n_values)\n",
    "    p = random.choice(p_values)\n",
    "    \n",
    "    # 生成连通图\n",
>>>>>>> 6a7e0afe5c1c42459e9c27ae31429070b17da434
    "    G = generate_connected_erdos_renyi_graph(n, p)\n",
    "    G = assign_random_weights(G)\n",
    "    \n",
    "    return G, n, p\n",
    "\n",
<<<<<<< HEAD
    "# Generating a Random Graph\n",
    "G, n, p = generate_single_graph()\n",
    "\n",
    "# Saving the Generated Graph and Parameters\n",
    "with open('random_graph.pkl', 'wb') as f:\n",
    "    pickle.dump((G, n, p), f)\n",
    "\n",
    "# Output graph information\n",
    "print(f\"The random graph has been generated and saved to a file'random_graph.pkl'\")\n",
    "print(f\"Number of nodes: {n}, Edge probability: {p}\")\n",
    "print(f\"Number of edges: {G.number_of_edges()}\")\n",
    "print(f\"Node weights: {nx.get_node_attributes(G, 'weight')}\")\n",
    "print(f\"Edge set: {list(G.edges())}\") \n"
=======
    "# 生成随机图\n",
    "G, n, p = generate_single_graph()\n",
    "\n",
    "# 保存生成的图和参数\n",
    "with open('random_graph.pkl', 'wb') as f:\n",
    "    pickle.dump((G, n, p), f)\n",
    "\n",
    "# 输出图的信息\n",
    "print(f\"随机图已生成并保存到文件 'random_graph.pkl'\")\n",
    "print(f\"节点数: {n}, 边概率: {p}\")\n",
    "print(f\"边数: {G.number_of_edges()}\")\n",
    "print(f\"节点权重: {nx.get_node_attributes(G, 'weight')}\")\n",
    "print(f\"边集: {list(G.edges())}\")  # 这里添加边集的输出\n"
>>>>>>> 6a7e0afe5c1c42459e9c27ae31429070b17da434
   ]
  }
 ],
 "metadata": {
  "kernelspec": {
   "display_name": "Python 3 (ipykernel)",
   "language": "python",
   "name": "python3"
  },
  "language_info": {
   "codemirror_mode": {
    "name": "ipython",
    "version": 3
   },
   "file_extension": ".py",
   "mimetype": "text/x-python",
   "name": "python",
   "nbconvert_exporter": "python",
   "pygments_lexer": "ipython3",
   "version": "3.12.1"
  }
 },
 "nbformat": 4,
 "nbformat_minor": 5
}
