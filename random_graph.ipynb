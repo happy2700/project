{
 "cells": [
  {
   "cell_type": "code",
   "execution_count": 10,
   "id": "13005cc2-735d-43cc-9f38-544675eb3b95",
   "metadata": {},
   "outputs": [
    {
     "name": "stdout",
     "output_type": "stream",
     "text": [
      "The random graph has been generated and saved to a file'random_graph.pkl'\n",
      "Number of nodes: 8, Edge probability: 0.6\n",
      "Number of edges: 18\n",
      "Node weights: {0: 2, 1: 2, 2: 6, 3: 10, 4: 13, 5: 5, 6: 3, 7: 14}\n",
      "Edge set: [(0, 2), (0, 4), (0, 6), (0, 7), (1, 3), (1, 6), (1, 7), (2, 3), (2, 4), (2, 5), (2, 6), (2, 7), (3, 5), (3, 7), (4, 5), (4, 6), (4, 7), (6, 7)]\n"
     ]
    }
   ],
   "source": [
    "import networkx as nx\n",
    "import random\n",
    "import pickle\n",
    "\n",
    "def generate_connected_erdos_renyi_graph(n, p):\n",
    "    \"\"\"\n",
    "    Generates a connected Erdős-Rényi graph.\n",
    "    \"\"\"\n",
    "    while True:\n",
    "        G = nx.erdos_renyi_graph(n, p)  # Generating a Random Graph\n",
    "        if nx.is_connected(G):  # Checking if the Graph is Connected\n",
    "            return G\n",
    "\n",
    "def assign_random_weights(G, weight_range=(1, 20)):\n",
    "    \"\"\"\n",
    "    Assigns random weights to each vertex of the graph.\n",
    "    \"\"\"\n",
    "    for node in G.nodes():\n",
    "        G.nodes[node]['weight'] = random.randint(*weight_range)\n",
    "    return G\n",
    "\n",
    "def generate_single_graph():\n",
    "    \"\"\"\n",
    "    Randomly selects a number of vertices and a probability from the given values, generates a connected graph, and assigns random weights.\n",
    "    \"\"\"\n",
    "    n_values = [7,8]  # Range of Number of Nodes\n",
    "    p_values = [0.3, 0.4, 0.5, 0.6, 0.7]  # Range of Edge Probability\n",
    "    \n",
    "   # Randomly Selecting a Number of Vertices and a Probability\n",
    "    n = random.choice(n_values)\n",
    "    p = random.choice(p_values)\n",
    "    \n",
    "    # Generating a Connected Graph\n",
    "    G = generate_connected_erdos_renyi_graph(n, p)\n",
    "    G = assign_random_weights(G)\n",
    "    \n",
    "    return G, n, p\n",
    "\n",
    "# Generating a Random Graph\n",
    "G, n, p = generate_single_graph()\n",
    "\n",
    "# Saving the Generated Graph and Parameters\n",
    "with open('random_graph.pkl', 'wb') as f:\n",
    "    pickle.dump((G, n, p), f)\n",
    "\n",
    "# Output graph information\n",
    "print(f\"The random graph has been generated and saved to a file'random_graph.pkl'\")\n",
    "print(f\"Number of nodes: {n}, Edge probability: {p}\")\n",
    "print(f\"Number of edges: {G.number_of_edges()}\")\n",
    "print(f\"Node weights: {nx.get_node_attributes(G, 'weight')}\")\n",
    "print(f\"Edge set: {list(G.edges())}\") \n"
   ]
  }
 ],
 "metadata": {
  "kernelspec": {
   "display_name": "Python 3 (ipykernel)",
   "language": "python",
   "name": "python3"
  },
  "language_info": {
   "codemirror_mode": {
    "name": "ipython",
    "version": 3
   },
   "file_extension": ".py",
   "mimetype": "text/x-python",
   "name": "python",
   "nbconvert_exporter": "python",
   "pygments_lexer": "ipython3",
   "version": "3.12.1"
  }
 },
 "nbformat": 4,
 "nbformat_minor": 5
}
