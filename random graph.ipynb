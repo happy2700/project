{
 "cells": [
  {
   "cell_type": "code",
   "execution_count": 1,
   "id": "13005cc2-735d-43cc-9f38-544675eb3b95",
   "metadata": {},
   "outputs": [
    {
     "name": "stdout",
     "output_type": "stream",
     "text": [
      "随机图已生成并保存到文件 'random_graph.pkl'\n",
      "节点数: 8, 边概率: 0.4\n",
      "边数: 7\n",
      "节点权重: {0: 12, 1: 13, 2: 14, 3: 5, 4: 18, 5: 20, 6: 1, 7: 19}\n",
      "边集: [(0, 7), (1, 3), (1, 4), (2, 4), (3, 5), (5, 6), (5, 7)]\n"
     ]
    }
   ],
   "source": [
    "import networkx as nx\n",
    "import random\n",
    "import pickle\n",
    "\n",
    "def generate_connected_erdos_renyi_graph(n, p):\n",
    "    \"\"\"\n",
    "    生成一个连通的 Erdős-Rényi 图\n",
    "    \"\"\"\n",
    "    while True:\n",
    "        G = nx.erdos_renyi_graph(n, p)  # 生成随机图\n",
    "        if nx.is_connected(G):  # 检查图是否连通\n",
    "            return G\n",
    "\n",
    "def assign_random_weights(G, weight_range=(1, 20)):\n",
    "    \"\"\"\n",
    "    为图的每个顶点赋予随机权值\n",
    "    \"\"\"\n",
    "    for node in G.nodes():\n",
    "        G.nodes[node]['weight'] = random.randint(*weight_range)\n",
    "    return G\n",
    "\n",
    "def generate_single_graph():\n",
    "    \"\"\"\n",
    "    从给定的数值中随机选择一个顶点数和概率，生成一个连通图，并赋予随机权值\n",
    "    \"\"\"\n",
    "    # 固定参数\n",
    "    n_values = [7,8]  # 节点数范围\n",
    "    p_values = [0.3, 0.4, 0.5, 0.6, 0.7]  # 边概率范围\n",
    "    \n",
    "    # 随机选择一个顶点数和概率\n",
    "    n = random.choice(n_values)\n",
    "    p = random.choice(p_values)\n",
    "    \n",
    "    # 生成连通图\n",
    "    G = generate_connected_erdos_renyi_graph(n, p)\n",
    "    G = assign_random_weights(G)\n",
    "    \n",
    "    return G, n, p\n",
    "\n",
    "# 生成随机图\n",
    "G, n, p = generate_single_graph()\n",
    "\n",
    "# 保存生成的图和参数\n",
    "with open('random_graph.pkl', 'wb') as f:\n",
    "    pickle.dump((G, n, p), f)\n",
    "\n",
    "# 输出图的信息\n",
    "print(f\"随机图已生成并保存到文件 'random_graph.pkl'\")\n",
    "print(f\"节点数: {n}, 边概率: {p}\")\n",
    "print(f\"边数: {G.number_of_edges()}\")\n",
    "print(f\"节点权重: {nx.get_node_attributes(G, 'weight')}\")\n",
    "print(f\"边集: {list(G.edges())}\")  # 这里添加边集的输出\n"
   ]
  }
 ],
 "metadata": {
  "kernelspec": {
   "display_name": "Python 3 (ipykernel)",
   "language": "python",
   "name": "python3"
  },
  "language_info": {
   "codemirror_mode": {
    "name": "ipython",
    "version": 3
   },
   "file_extension": ".py",
   "mimetype": "text/x-python",
   "name": "python",
   "nbconvert_exporter": "python",
   "pygments_lexer": "ipython3",
   "version": "3.12.1"
  }
 },
 "nbformat": 4,
 "nbformat_minor": 5
}
